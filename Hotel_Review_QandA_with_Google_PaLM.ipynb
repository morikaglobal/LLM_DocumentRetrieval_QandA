{
  "nbformat": 4,
  "nbformat_minor": 0,
  "metadata": {
    "colab": {
      "provenance": []
    },
    "kernelspec": {
      "name": "python3",
      "display_name": "Python 3"
    },
    "language_info": {
      "name": "python"
    }
  },
  "cells": [
    {
      "cell_type": "markdown",
      "source": [
        "# LLM Project - Dataframe question and answer system for Hotel Reviews using LangChain and Google PaLM\n",
        "\n",
        "In this project, I will build a question and answer system using Google PaLM LLM and LangChain for an user in Hotel operation to retrieve a customer review based on the topic/keyword entered by the user from the dataframe of hotel reviews collected.\n",
        "\n",
        "For the dataframe used, I have used dataset available on Kaggle as follows:\n",
        "\n",
        "https://www.kaggle.com/datasets/michelhatab/hotel-reviews-bookingcom\n",
        "\n"
      ],
      "metadata": {
        "id": "bbjzyRSwji6-"
      }
    },
    {
      "cell_type": "markdown",
      "source": [
        "# Importing libraries"
      ],
      "metadata": {
        "id": "p7pyfvlMkLy2"
      }
    },
    {
      "cell_type": "code",
      "source": [
        "import pandas as pd"
      ],
      "metadata": {
        "id": "e451qaqDQWAM"
      },
      "execution_count": 1,
      "outputs": []
    },
    {
      "cell_type": "markdown",
      "source": [
        "Importing Hotel Review dataset from Kaggle"
      ],
      "metadata": {
        "id": "-JIe3R3ukVLh"
      }
    },
    {
      "cell_type": "code",
      "source": [
        "import os\n",
        "os.environ['KAGGLE_CONFIG_DIR'] = '/content/'"
      ],
      "metadata": {
        "id": "QW9qpeEDBMwb"
      },
      "execution_count": 2,
      "outputs": []
    },
    {
      "cell_type": "code",
      "source": [
        "!kaggle datasets download -d michelhatab/hotel-reviews-bookingcom"
      ],
      "metadata": {
        "colab": {
          "base_uri": "https://localhost:8080/"
        },
        "id": "QlaULCdGhoWR",
        "outputId": "7a47f24d-827c-489e-933f-5c09870e7447"
      },
      "execution_count": 3,
      "outputs": [
        {
          "output_type": "stream",
          "name": "stdout",
          "text": [
            "Warning: Your Kaggle API key is readable by other users on this system! To fix this, you can run 'chmod 600 /content/kaggle.json'\n",
            "Downloading hotel-reviews-bookingcom.zip to /content\n",
            "  0% 0.00/83.1k [00:00<?, ?B/s]\n",
            "100% 83.1k/83.1k [00:00<00:00, 46.5MB/s]\n"
          ]
        }
      ]
    },
    {
      "cell_type": "code",
      "source": [
        "!unzip 'hotel-reviews-bookingcom.zip'"
      ],
      "metadata": {
        "colab": {
          "base_uri": "https://localhost:8080/"
        },
        "id": "IP-Mei03h12y",
        "outputId": "2f925816-217a-480f-b392-336c533fee09"
      },
      "execution_count": 4,
      "outputs": [
        {
          "output_type": "stream",
          "name": "stdout",
          "text": [
            "Archive:  hotel-reviews-bookingcom.zip\n",
            "  inflating: La_Veranda_Reviews-2023-01-16.csv  \n"
          ]
        }
      ]
    },
    {
      "cell_type": "code",
      "source": [
        "df = pd.read_csv('La_Veranda_Reviews-2023-01-16.csv')\n",
        "df.head()"
      ],
      "metadata": {
        "colab": {
          "base_uri": "https://localhost:8080/",
          "height": 345
        },
        "id": "F3hAP2ovRPWC",
        "outputId": "697588ed-c327-4a80-923a-64dd0fbbdddc"
      },
      "execution_count": 95,
      "outputs": [
        {
          "output_type": "execute_result",
          "data": {
            "text/plain": [
              "                                               Title  \\\n",
              "0                           Wonderful place to stay.   \n",
              "1                                      It was superb   \n",
              "2                                          Very Good   \n",
              "3                                          Wonderful   \n",
              "4  Fantastic value for a new, modern and spotless...   \n",
              "\n",
              "                                      PositiveReview   NegativeReview  Score  \\\n",
              "0  New, comfortable apartments, close to the airp...  Nothing at all.   10.0   \n",
              "1  We had a really pleasant stay! The staff was v...              NaN   10.0   \n",
              "2  the location is great and near the airport. bu...              NaN    8.0   \n",
              "3            Great stuff\\nGreat Quality/price\\nClean              NaN    9.0   \n",
              "4  Clean and modern with very comfortable beds, i...              NaN   10.0   \n",
              "\n",
              "    GuestName    GuestCountry                   RoomType NumberOfNights  \\\n",
              "0        Olga          Norway           Budget Twin Room        1 night   \n",
              "1       Iwona          Poland                Double Room       3 nights   \n",
              "2      Ruijia          Sweden                Double Room        1 night   \n",
              "3  Theprincem  United Kingdom   Double Room with Balcony       2 nights   \n",
              "4           M     Switzerland  Family Suite with Balcony        1 night   \n",
              "\n",
              "        VisitDate      GroupType PropertyResponse  \n",
              "0       June 2022  Solo traveler              NaN  \n",
              "1   December 2022         Family              NaN  \n",
              "2   December 2022  Solo traveler              NaN  \n",
              "3  September 2022  Solo traveler              NaN  \n",
              "4    October 2022         Family              NaN  "
            ],
            "text/html": [
              "\n",
              "  <div id=\"df-2760f16c-715f-4e66-b725-c472d119f4f6\" class=\"colab-df-container\">\n",
              "    <div>\n",
              "<style scoped>\n",
              "    .dataframe tbody tr th:only-of-type {\n",
              "        vertical-align: middle;\n",
              "    }\n",
              "\n",
              "    .dataframe tbody tr th {\n",
              "        vertical-align: top;\n",
              "    }\n",
              "\n",
              "    .dataframe thead th {\n",
              "        text-align: right;\n",
              "    }\n",
              "</style>\n",
              "<table border=\"1\" class=\"dataframe\">\n",
              "  <thead>\n",
              "    <tr style=\"text-align: right;\">\n",
              "      <th></th>\n",
              "      <th>Title</th>\n",
              "      <th>PositiveReview</th>\n",
              "      <th>NegativeReview</th>\n",
              "      <th>Score</th>\n",
              "      <th>GuestName</th>\n",
              "      <th>GuestCountry</th>\n",
              "      <th>RoomType</th>\n",
              "      <th>NumberOfNights</th>\n",
              "      <th>VisitDate</th>\n",
              "      <th>GroupType</th>\n",
              "      <th>PropertyResponse</th>\n",
              "    </tr>\n",
              "  </thead>\n",
              "  <tbody>\n",
              "    <tr>\n",
              "      <th>0</th>\n",
              "      <td>Wonderful place to stay.</td>\n",
              "      <td>New, comfortable apartments, close to the airp...</td>\n",
              "      <td>Nothing at all.</td>\n",
              "      <td>10.0</td>\n",
              "      <td>Olga</td>\n",
              "      <td>Norway</td>\n",
              "      <td>Budget Twin Room</td>\n",
              "      <td>1 night</td>\n",
              "      <td>June 2022</td>\n",
              "      <td>Solo traveler</td>\n",
              "      <td>NaN</td>\n",
              "    </tr>\n",
              "    <tr>\n",
              "      <th>1</th>\n",
              "      <td>It was superb</td>\n",
              "      <td>We had a really pleasant stay! The staff was v...</td>\n",
              "      <td>NaN</td>\n",
              "      <td>10.0</td>\n",
              "      <td>Iwona</td>\n",
              "      <td>Poland</td>\n",
              "      <td>Double Room</td>\n",
              "      <td>3 nights</td>\n",
              "      <td>December 2022</td>\n",
              "      <td>Family</td>\n",
              "      <td>NaN</td>\n",
              "    </tr>\n",
              "    <tr>\n",
              "      <th>2</th>\n",
              "      <td>Very Good</td>\n",
              "      <td>the location is great and near the airport. bu...</td>\n",
              "      <td>NaN</td>\n",
              "      <td>8.0</td>\n",
              "      <td>Ruijia</td>\n",
              "      <td>Sweden</td>\n",
              "      <td>Double Room</td>\n",
              "      <td>1 night</td>\n",
              "      <td>December 2022</td>\n",
              "      <td>Solo traveler</td>\n",
              "      <td>NaN</td>\n",
              "    </tr>\n",
              "    <tr>\n",
              "      <th>3</th>\n",
              "      <td>Wonderful</td>\n",
              "      <td>Great stuff\\nGreat Quality/price\\nClean</td>\n",
              "      <td>NaN</td>\n",
              "      <td>9.0</td>\n",
              "      <td>Theprincem</td>\n",
              "      <td>United Kingdom</td>\n",
              "      <td>Double Room with Balcony</td>\n",
              "      <td>2 nights</td>\n",
              "      <td>September 2022</td>\n",
              "      <td>Solo traveler</td>\n",
              "      <td>NaN</td>\n",
              "    </tr>\n",
              "    <tr>\n",
              "      <th>4</th>\n",
              "      <td>Fantastic value for a new, modern and spotless...</td>\n",
              "      <td>Clean and modern with very comfortable beds, i...</td>\n",
              "      <td>NaN</td>\n",
              "      <td>10.0</td>\n",
              "      <td>M</td>\n",
              "      <td>Switzerland</td>\n",
              "      <td>Family Suite with Balcony</td>\n",
              "      <td>1 night</td>\n",
              "      <td>October 2022</td>\n",
              "      <td>Family</td>\n",
              "      <td>NaN</td>\n",
              "    </tr>\n",
              "  </tbody>\n",
              "</table>\n",
              "</div>\n",
              "    <div class=\"colab-df-buttons\">\n",
              "\n",
              "  <div class=\"colab-df-container\">\n",
              "    <button class=\"colab-df-convert\" onclick=\"convertToInteractive('df-2760f16c-715f-4e66-b725-c472d119f4f6')\"\n",
              "            title=\"Convert this dataframe to an interactive table.\"\n",
              "            style=\"display:none;\">\n",
              "\n",
              "  <svg xmlns=\"http://www.w3.org/2000/svg\" height=\"24px\" viewBox=\"0 -960 960 960\">\n",
              "    <path d=\"M120-120v-720h720v720H120Zm60-500h600v-160H180v160Zm220 220h160v-160H400v160Zm0 220h160v-160H400v160ZM180-400h160v-160H180v160Zm440 0h160v-160H620v160ZM180-180h160v-160H180v160Zm440 0h160v-160H620v160Z\"/>\n",
              "  </svg>\n",
              "    </button>\n",
              "\n",
              "  <style>\n",
              "    .colab-df-container {\n",
              "      display:flex;\n",
              "      gap: 12px;\n",
              "    }\n",
              "\n",
              "    .colab-df-convert {\n",
              "      background-color: #E8F0FE;\n",
              "      border: none;\n",
              "      border-radius: 50%;\n",
              "      cursor: pointer;\n",
              "      display: none;\n",
              "      fill: #1967D2;\n",
              "      height: 32px;\n",
              "      padding: 0 0 0 0;\n",
              "      width: 32px;\n",
              "    }\n",
              "\n",
              "    .colab-df-convert:hover {\n",
              "      background-color: #E2EBFA;\n",
              "      box-shadow: 0px 1px 2px rgba(60, 64, 67, 0.3), 0px 1px 3px 1px rgba(60, 64, 67, 0.15);\n",
              "      fill: #174EA6;\n",
              "    }\n",
              "\n",
              "    .colab-df-buttons div {\n",
              "      margin-bottom: 4px;\n",
              "    }\n",
              "\n",
              "    [theme=dark] .colab-df-convert {\n",
              "      background-color: #3B4455;\n",
              "      fill: #D2E3FC;\n",
              "    }\n",
              "\n",
              "    [theme=dark] .colab-df-convert:hover {\n",
              "      background-color: #434B5C;\n",
              "      box-shadow: 0px 1px 3px 1px rgba(0, 0, 0, 0.15);\n",
              "      filter: drop-shadow(0px 1px 2px rgba(0, 0, 0, 0.3));\n",
              "      fill: #FFFFFF;\n",
              "    }\n",
              "  </style>\n",
              "\n",
              "    <script>\n",
              "      const buttonEl =\n",
              "        document.querySelector('#df-2760f16c-715f-4e66-b725-c472d119f4f6 button.colab-df-convert');\n",
              "      buttonEl.style.display =\n",
              "        google.colab.kernel.accessAllowed ? 'block' : 'none';\n",
              "\n",
              "      async function convertToInteractive(key) {\n",
              "        const element = document.querySelector('#df-2760f16c-715f-4e66-b725-c472d119f4f6');\n",
              "        const dataTable =\n",
              "          await google.colab.kernel.invokeFunction('convertToInteractive',\n",
              "                                                    [key], {});\n",
              "        if (!dataTable) return;\n",
              "\n",
              "        const docLinkHtml = 'Like what you see? Visit the ' +\n",
              "          '<a target=\"_blank\" href=https://colab.research.google.com/notebooks/data_table.ipynb>data table notebook</a>'\n",
              "          + ' to learn more about interactive tables.';\n",
              "        element.innerHTML = '';\n",
              "        dataTable['output_type'] = 'display_data';\n",
              "        await google.colab.output.renderOutput(dataTable, element);\n",
              "        const docLink = document.createElement('div');\n",
              "        docLink.innerHTML = docLinkHtml;\n",
              "        element.appendChild(docLink);\n",
              "      }\n",
              "    </script>\n",
              "  </div>\n",
              "\n",
              "\n",
              "<div id=\"df-13a050de-ee6f-43e5-8ffe-e783df9fb923\">\n",
              "  <button class=\"colab-df-quickchart\" onclick=\"quickchart('df-13a050de-ee6f-43e5-8ffe-e783df9fb923')\"\n",
              "            title=\"Suggest charts\"\n",
              "            style=\"display:none;\">\n",
              "\n",
              "<svg xmlns=\"http://www.w3.org/2000/svg\" height=\"24px\"viewBox=\"0 0 24 24\"\n",
              "     width=\"24px\">\n",
              "    <g>\n",
              "        <path d=\"M19 3H5c-1.1 0-2 .9-2 2v14c0 1.1.9 2 2 2h14c1.1 0 2-.9 2-2V5c0-1.1-.9-2-2-2zM9 17H7v-7h2v7zm4 0h-2V7h2v10zm4 0h-2v-4h2v4z\"/>\n",
              "    </g>\n",
              "</svg>\n",
              "  </button>\n",
              "\n",
              "<style>\n",
              "  .colab-df-quickchart {\n",
              "      --bg-color: #E8F0FE;\n",
              "      --fill-color: #1967D2;\n",
              "      --hover-bg-color: #E2EBFA;\n",
              "      --hover-fill-color: #174EA6;\n",
              "      --disabled-fill-color: #AAA;\n",
              "      --disabled-bg-color: #DDD;\n",
              "  }\n",
              "\n",
              "  [theme=dark] .colab-df-quickchart {\n",
              "      --bg-color: #3B4455;\n",
              "      --fill-color: #D2E3FC;\n",
              "      --hover-bg-color: #434B5C;\n",
              "      --hover-fill-color: #FFFFFF;\n",
              "      --disabled-bg-color: #3B4455;\n",
              "      --disabled-fill-color: #666;\n",
              "  }\n",
              "\n",
              "  .colab-df-quickchart {\n",
              "    background-color: var(--bg-color);\n",
              "    border: none;\n",
              "    border-radius: 50%;\n",
              "    cursor: pointer;\n",
              "    display: none;\n",
              "    fill: var(--fill-color);\n",
              "    height: 32px;\n",
              "    padding: 0;\n",
              "    width: 32px;\n",
              "  }\n",
              "\n",
              "  .colab-df-quickchart:hover {\n",
              "    background-color: var(--hover-bg-color);\n",
              "    box-shadow: 0 1px 2px rgba(60, 64, 67, 0.3), 0 1px 3px 1px rgba(60, 64, 67, 0.15);\n",
              "    fill: var(--button-hover-fill-color);\n",
              "  }\n",
              "\n",
              "  .colab-df-quickchart-complete:disabled,\n",
              "  .colab-df-quickchart-complete:disabled:hover {\n",
              "    background-color: var(--disabled-bg-color);\n",
              "    fill: var(--disabled-fill-color);\n",
              "    box-shadow: none;\n",
              "  }\n",
              "\n",
              "  .colab-df-spinner {\n",
              "    border: 2px solid var(--fill-color);\n",
              "    border-color: transparent;\n",
              "    border-bottom-color: var(--fill-color);\n",
              "    animation:\n",
              "      spin 1s steps(1) infinite;\n",
              "  }\n",
              "\n",
              "  @keyframes spin {\n",
              "    0% {\n",
              "      border-color: transparent;\n",
              "      border-bottom-color: var(--fill-color);\n",
              "      border-left-color: var(--fill-color);\n",
              "    }\n",
              "    20% {\n",
              "      border-color: transparent;\n",
              "      border-left-color: var(--fill-color);\n",
              "      border-top-color: var(--fill-color);\n",
              "    }\n",
              "    30% {\n",
              "      border-color: transparent;\n",
              "      border-left-color: var(--fill-color);\n",
              "      border-top-color: var(--fill-color);\n",
              "      border-right-color: var(--fill-color);\n",
              "    }\n",
              "    40% {\n",
              "      border-color: transparent;\n",
              "      border-right-color: var(--fill-color);\n",
              "      border-top-color: var(--fill-color);\n",
              "    }\n",
              "    60% {\n",
              "      border-color: transparent;\n",
              "      border-right-color: var(--fill-color);\n",
              "    }\n",
              "    80% {\n",
              "      border-color: transparent;\n",
              "      border-right-color: var(--fill-color);\n",
              "      border-bottom-color: var(--fill-color);\n",
              "    }\n",
              "    90% {\n",
              "      border-color: transparent;\n",
              "      border-bottom-color: var(--fill-color);\n",
              "    }\n",
              "  }\n",
              "</style>\n",
              "\n",
              "  <script>\n",
              "    async function quickchart(key) {\n",
              "      const quickchartButtonEl =\n",
              "        document.querySelector('#' + key + ' button');\n",
              "      quickchartButtonEl.disabled = true;  // To prevent multiple clicks.\n",
              "      quickchartButtonEl.classList.add('colab-df-spinner');\n",
              "      try {\n",
              "        const charts = await google.colab.kernel.invokeFunction(\n",
              "            'suggestCharts', [key], {});\n",
              "      } catch (error) {\n",
              "        console.error('Error during call to suggestCharts:', error);\n",
              "      }\n",
              "      quickchartButtonEl.classList.remove('colab-df-spinner');\n",
              "      quickchartButtonEl.classList.add('colab-df-quickchart-complete');\n",
              "    }\n",
              "    (() => {\n",
              "      let quickchartButtonEl =\n",
              "        document.querySelector('#df-13a050de-ee6f-43e5-8ffe-e783df9fb923 button');\n",
              "      quickchartButtonEl.style.display =\n",
              "        google.colab.kernel.accessAllowed ? 'block' : 'none';\n",
              "    })();\n",
              "  </script>\n",
              "</div>\n",
              "    </div>\n",
              "  </div>\n"
            ]
          },
          "metadata": {},
          "execution_count": 95
        }
      ]
    },
    {
      "cell_type": "markdown",
      "source": [
        "# Explore the dataset"
      ],
      "metadata": {
        "id": "r3XydqN_kvJa"
      }
    },
    {
      "cell_type": "code",
      "source": [
        "df.shape"
      ],
      "metadata": {
        "colab": {
          "base_uri": "https://localhost:8080/"
        },
        "id": "ETdVR-pkRcpr",
        "outputId": "f422762f-c741-47ed-92d6-c834f7a614ae"
      },
      "execution_count": 96,
      "outputs": [
        {
          "output_type": "execute_result",
          "data": {
            "text/plain": [
              "(1523, 11)"
            ]
          },
          "metadata": {},
          "execution_count": 96
        }
      ]
    },
    {
      "cell_type": "code",
      "source": [
        "df.info()"
      ],
      "metadata": {
        "colab": {
          "base_uri": "https://localhost:8080/"
        },
        "id": "btO5n4mMRmXN",
        "outputId": "ee025d5a-437f-4755-a733-a33472fb1742"
      },
      "execution_count": 97,
      "outputs": [
        {
          "output_type": "stream",
          "name": "stdout",
          "text": [
            "<class 'pandas.core.frame.DataFrame'>\n",
            "RangeIndex: 1523 entries, 0 to 1522\n",
            "Data columns (total 11 columns):\n",
            " #   Column            Non-Null Count  Dtype  \n",
            "---  ------            --------------  -----  \n",
            " 0   Title             1521 non-null   object \n",
            " 1   PositiveReview    775 non-null    object \n",
            " 2   NegativeReview    435 non-null    object \n",
            " 3   Score             1523 non-null   float64\n",
            " 4   GuestName         1523 non-null   object \n",
            " 5   GuestCountry      1523 non-null   object \n",
            " 6   RoomType          1460 non-null   object \n",
            " 7   NumberOfNights    1523 non-null   object \n",
            " 8   VisitDate         1523 non-null   object \n",
            " 9   GroupType         1523 non-null   object \n",
            " 10  PropertyResponse  123 non-null    object \n",
            "dtypes: float64(1), object(10)\n",
            "memory usage: 131.0+ KB\n"
          ]
        }
      ]
    },
    {
      "cell_type": "markdown",
      "source": [
        "I will remove unnecessary columns of GuestName and PropertyResponse as other columns are more important when hotel operators look into the overview of their hotel reviews"
      ],
      "metadata": {
        "id": "5PG58PVQlN0N"
      }
    },
    {
      "cell_type": "code",
      "source": [
        "df = df.drop(columns=['GuestName', 'PropertyResponse'])\n",
        "df.head()"
      ],
      "metadata": {
        "colab": {
          "base_uri": "https://localhost:8080/",
          "height": 293
        },
        "id": "1HmYWt3GR1Hi",
        "outputId": "b507f72e-2e09-4630-d9b1-80e4384b89eb"
      },
      "execution_count": 98,
      "outputs": [
        {
          "output_type": "execute_result",
          "data": {
            "text/plain": [
              "                                               Title  \\\n",
              "0                           Wonderful place to stay.   \n",
              "1                                      It was superb   \n",
              "2                                          Very Good   \n",
              "3                                          Wonderful   \n",
              "4  Fantastic value for a new, modern and spotless...   \n",
              "\n",
              "                                      PositiveReview   NegativeReview  Score  \\\n",
              "0  New, comfortable apartments, close to the airp...  Nothing at all.   10.0   \n",
              "1  We had a really pleasant stay! The staff was v...              NaN   10.0   \n",
              "2  the location is great and near the airport. bu...              NaN    8.0   \n",
              "3            Great stuff\\nGreat Quality/price\\nClean              NaN    9.0   \n",
              "4  Clean and modern with very comfortable beds, i...              NaN   10.0   \n",
              "\n",
              "     GuestCountry                   RoomType NumberOfNights       VisitDate  \\\n",
              "0          Norway           Budget Twin Room        1 night       June 2022   \n",
              "1          Poland                Double Room       3 nights   December 2022   \n",
              "2          Sweden                Double Room        1 night   December 2022   \n",
              "3  United Kingdom   Double Room with Balcony       2 nights  September 2022   \n",
              "4     Switzerland  Family Suite with Balcony        1 night    October 2022   \n",
              "\n",
              "       GroupType  \n",
              "0  Solo traveler  \n",
              "1         Family  \n",
              "2  Solo traveler  \n",
              "3  Solo traveler  \n",
              "4         Family  "
            ],
            "text/html": [
              "\n",
              "  <div id=\"df-dfba5d62-f5e2-4568-93e9-9e98e8823b80\" class=\"colab-df-container\">\n",
              "    <div>\n",
              "<style scoped>\n",
              "    .dataframe tbody tr th:only-of-type {\n",
              "        vertical-align: middle;\n",
              "    }\n",
              "\n",
              "    .dataframe tbody tr th {\n",
              "        vertical-align: top;\n",
              "    }\n",
              "\n",
              "    .dataframe thead th {\n",
              "        text-align: right;\n",
              "    }\n",
              "</style>\n",
              "<table border=\"1\" class=\"dataframe\">\n",
              "  <thead>\n",
              "    <tr style=\"text-align: right;\">\n",
              "      <th></th>\n",
              "      <th>Title</th>\n",
              "      <th>PositiveReview</th>\n",
              "      <th>NegativeReview</th>\n",
              "      <th>Score</th>\n",
              "      <th>GuestCountry</th>\n",
              "      <th>RoomType</th>\n",
              "      <th>NumberOfNights</th>\n",
              "      <th>VisitDate</th>\n",
              "      <th>GroupType</th>\n",
              "    </tr>\n",
              "  </thead>\n",
              "  <tbody>\n",
              "    <tr>\n",
              "      <th>0</th>\n",
              "      <td>Wonderful place to stay.</td>\n",
              "      <td>New, comfortable apartments, close to the airp...</td>\n",
              "      <td>Nothing at all.</td>\n",
              "      <td>10.0</td>\n",
              "      <td>Norway</td>\n",
              "      <td>Budget Twin Room</td>\n",
              "      <td>1 night</td>\n",
              "      <td>June 2022</td>\n",
              "      <td>Solo traveler</td>\n",
              "    </tr>\n",
              "    <tr>\n",
              "      <th>1</th>\n",
              "      <td>It was superb</td>\n",
              "      <td>We had a really pleasant stay! The staff was v...</td>\n",
              "      <td>NaN</td>\n",
              "      <td>10.0</td>\n",
              "      <td>Poland</td>\n",
              "      <td>Double Room</td>\n",
              "      <td>3 nights</td>\n",
              "      <td>December 2022</td>\n",
              "      <td>Family</td>\n",
              "    </tr>\n",
              "    <tr>\n",
              "      <th>2</th>\n",
              "      <td>Very Good</td>\n",
              "      <td>the location is great and near the airport. bu...</td>\n",
              "      <td>NaN</td>\n",
              "      <td>8.0</td>\n",
              "      <td>Sweden</td>\n",
              "      <td>Double Room</td>\n",
              "      <td>1 night</td>\n",
              "      <td>December 2022</td>\n",
              "      <td>Solo traveler</td>\n",
              "    </tr>\n",
              "    <tr>\n",
              "      <th>3</th>\n",
              "      <td>Wonderful</td>\n",
              "      <td>Great stuff\\nGreat Quality/price\\nClean</td>\n",
              "      <td>NaN</td>\n",
              "      <td>9.0</td>\n",
              "      <td>United Kingdom</td>\n",
              "      <td>Double Room with Balcony</td>\n",
              "      <td>2 nights</td>\n",
              "      <td>September 2022</td>\n",
              "      <td>Solo traveler</td>\n",
              "    </tr>\n",
              "    <tr>\n",
              "      <th>4</th>\n",
              "      <td>Fantastic value for a new, modern and spotless...</td>\n",
              "      <td>Clean and modern with very comfortable beds, i...</td>\n",
              "      <td>NaN</td>\n",
              "      <td>10.0</td>\n",
              "      <td>Switzerland</td>\n",
              "      <td>Family Suite with Balcony</td>\n",
              "      <td>1 night</td>\n",
              "      <td>October 2022</td>\n",
              "      <td>Family</td>\n",
              "    </tr>\n",
              "  </tbody>\n",
              "</table>\n",
              "</div>\n",
              "    <div class=\"colab-df-buttons\">\n",
              "\n",
              "  <div class=\"colab-df-container\">\n",
              "    <button class=\"colab-df-convert\" onclick=\"convertToInteractive('df-dfba5d62-f5e2-4568-93e9-9e98e8823b80')\"\n",
              "            title=\"Convert this dataframe to an interactive table.\"\n",
              "            style=\"display:none;\">\n",
              "\n",
              "  <svg xmlns=\"http://www.w3.org/2000/svg\" height=\"24px\" viewBox=\"0 -960 960 960\">\n",
              "    <path d=\"M120-120v-720h720v720H120Zm60-500h600v-160H180v160Zm220 220h160v-160H400v160Zm0 220h160v-160H400v160ZM180-400h160v-160H180v160Zm440 0h160v-160H620v160ZM180-180h160v-160H180v160Zm440 0h160v-160H620v160Z\"/>\n",
              "  </svg>\n",
              "    </button>\n",
              "\n",
              "  <style>\n",
              "    .colab-df-container {\n",
              "      display:flex;\n",
              "      gap: 12px;\n",
              "    }\n",
              "\n",
              "    .colab-df-convert {\n",
              "      background-color: #E8F0FE;\n",
              "      border: none;\n",
              "      border-radius: 50%;\n",
              "      cursor: pointer;\n",
              "      display: none;\n",
              "      fill: #1967D2;\n",
              "      height: 32px;\n",
              "      padding: 0 0 0 0;\n",
              "      width: 32px;\n",
              "    }\n",
              "\n",
              "    .colab-df-convert:hover {\n",
              "      background-color: #E2EBFA;\n",
              "      box-shadow: 0px 1px 2px rgba(60, 64, 67, 0.3), 0px 1px 3px 1px rgba(60, 64, 67, 0.15);\n",
              "      fill: #174EA6;\n",
              "    }\n",
              "\n",
              "    .colab-df-buttons div {\n",
              "      margin-bottom: 4px;\n",
              "    }\n",
              "\n",
              "    [theme=dark] .colab-df-convert {\n",
              "      background-color: #3B4455;\n",
              "      fill: #D2E3FC;\n",
              "    }\n",
              "\n",
              "    [theme=dark] .colab-df-convert:hover {\n",
              "      background-color: #434B5C;\n",
              "      box-shadow: 0px 1px 3px 1px rgba(0, 0, 0, 0.15);\n",
              "      filter: drop-shadow(0px 1px 2px rgba(0, 0, 0, 0.3));\n",
              "      fill: #FFFFFF;\n",
              "    }\n",
              "  </style>\n",
              "\n",
              "    <script>\n",
              "      const buttonEl =\n",
              "        document.querySelector('#df-dfba5d62-f5e2-4568-93e9-9e98e8823b80 button.colab-df-convert');\n",
              "      buttonEl.style.display =\n",
              "        google.colab.kernel.accessAllowed ? 'block' : 'none';\n",
              "\n",
              "      async function convertToInteractive(key) {\n",
              "        const element = document.querySelector('#df-dfba5d62-f5e2-4568-93e9-9e98e8823b80');\n",
              "        const dataTable =\n",
              "          await google.colab.kernel.invokeFunction('convertToInteractive',\n",
              "                                                    [key], {});\n",
              "        if (!dataTable) return;\n",
              "\n",
              "        const docLinkHtml = 'Like what you see? Visit the ' +\n",
              "          '<a target=\"_blank\" href=https://colab.research.google.com/notebooks/data_table.ipynb>data table notebook</a>'\n",
              "          + ' to learn more about interactive tables.';\n",
              "        element.innerHTML = '';\n",
              "        dataTable['output_type'] = 'display_data';\n",
              "        await google.colab.output.renderOutput(dataTable, element);\n",
              "        const docLink = document.createElement('div');\n",
              "        docLink.innerHTML = docLinkHtml;\n",
              "        element.appendChild(docLink);\n",
              "      }\n",
              "    </script>\n",
              "  </div>\n",
              "\n",
              "\n",
              "<div id=\"df-5811ac19-3257-4fe3-a944-6fea6244a9c8\">\n",
              "  <button class=\"colab-df-quickchart\" onclick=\"quickchart('df-5811ac19-3257-4fe3-a944-6fea6244a9c8')\"\n",
              "            title=\"Suggest charts\"\n",
              "            style=\"display:none;\">\n",
              "\n",
              "<svg xmlns=\"http://www.w3.org/2000/svg\" height=\"24px\"viewBox=\"0 0 24 24\"\n",
              "     width=\"24px\">\n",
              "    <g>\n",
              "        <path d=\"M19 3H5c-1.1 0-2 .9-2 2v14c0 1.1.9 2 2 2h14c1.1 0 2-.9 2-2V5c0-1.1-.9-2-2-2zM9 17H7v-7h2v7zm4 0h-2V7h2v10zm4 0h-2v-4h2v4z\"/>\n",
              "    </g>\n",
              "</svg>\n",
              "  </button>\n",
              "\n",
              "<style>\n",
              "  .colab-df-quickchart {\n",
              "      --bg-color: #E8F0FE;\n",
              "      --fill-color: #1967D2;\n",
              "      --hover-bg-color: #E2EBFA;\n",
              "      --hover-fill-color: #174EA6;\n",
              "      --disabled-fill-color: #AAA;\n",
              "      --disabled-bg-color: #DDD;\n",
              "  }\n",
              "\n",
              "  [theme=dark] .colab-df-quickchart {\n",
              "      --bg-color: #3B4455;\n",
              "      --fill-color: #D2E3FC;\n",
              "      --hover-bg-color: #434B5C;\n",
              "      --hover-fill-color: #FFFFFF;\n",
              "      --disabled-bg-color: #3B4455;\n",
              "      --disabled-fill-color: #666;\n",
              "  }\n",
              "\n",
              "  .colab-df-quickchart {\n",
              "    background-color: var(--bg-color);\n",
              "    border: none;\n",
              "    border-radius: 50%;\n",
              "    cursor: pointer;\n",
              "    display: none;\n",
              "    fill: var(--fill-color);\n",
              "    height: 32px;\n",
              "    padding: 0;\n",
              "    width: 32px;\n",
              "  }\n",
              "\n",
              "  .colab-df-quickchart:hover {\n",
              "    background-color: var(--hover-bg-color);\n",
              "    box-shadow: 0 1px 2px rgba(60, 64, 67, 0.3), 0 1px 3px 1px rgba(60, 64, 67, 0.15);\n",
              "    fill: var(--button-hover-fill-color);\n",
              "  }\n",
              "\n",
              "  .colab-df-quickchart-complete:disabled,\n",
              "  .colab-df-quickchart-complete:disabled:hover {\n",
              "    background-color: var(--disabled-bg-color);\n",
              "    fill: var(--disabled-fill-color);\n",
              "    box-shadow: none;\n",
              "  }\n",
              "\n",
              "  .colab-df-spinner {\n",
              "    border: 2px solid var(--fill-color);\n",
              "    border-color: transparent;\n",
              "    border-bottom-color: var(--fill-color);\n",
              "    animation:\n",
              "      spin 1s steps(1) infinite;\n",
              "  }\n",
              "\n",
              "  @keyframes spin {\n",
              "    0% {\n",
              "      border-color: transparent;\n",
              "      border-bottom-color: var(--fill-color);\n",
              "      border-left-color: var(--fill-color);\n",
              "    }\n",
              "    20% {\n",
              "      border-color: transparent;\n",
              "      border-left-color: var(--fill-color);\n",
              "      border-top-color: var(--fill-color);\n",
              "    }\n",
              "    30% {\n",
              "      border-color: transparent;\n",
              "      border-left-color: var(--fill-color);\n",
              "      border-top-color: var(--fill-color);\n",
              "      border-right-color: var(--fill-color);\n",
              "    }\n",
              "    40% {\n",
              "      border-color: transparent;\n",
              "      border-right-color: var(--fill-color);\n",
              "      border-top-color: var(--fill-color);\n",
              "    }\n",
              "    60% {\n",
              "      border-color: transparent;\n",
              "      border-right-color: var(--fill-color);\n",
              "    }\n",
              "    80% {\n",
              "      border-color: transparent;\n",
              "      border-right-color: var(--fill-color);\n",
              "      border-bottom-color: var(--fill-color);\n",
              "    }\n",
              "    90% {\n",
              "      border-color: transparent;\n",
              "      border-bottom-color: var(--fill-color);\n",
              "    }\n",
              "  }\n",
              "</style>\n",
              "\n",
              "  <script>\n",
              "    async function quickchart(key) {\n",
              "      const quickchartButtonEl =\n",
              "        document.querySelector('#' + key + ' button');\n",
              "      quickchartButtonEl.disabled = true;  // To prevent multiple clicks.\n",
              "      quickchartButtonEl.classList.add('colab-df-spinner');\n",
              "      try {\n",
              "        const charts = await google.colab.kernel.invokeFunction(\n",
              "            'suggestCharts', [key], {});\n",
              "      } catch (error) {\n",
              "        console.error('Error during call to suggestCharts:', error);\n",
              "      }\n",
              "      quickchartButtonEl.classList.remove('colab-df-spinner');\n",
              "      quickchartButtonEl.classList.add('colab-df-quickchart-complete');\n",
              "    }\n",
              "    (() => {\n",
              "      let quickchartButtonEl =\n",
              "        document.querySelector('#df-5811ac19-3257-4fe3-a944-6fea6244a9c8 button');\n",
              "      quickchartButtonEl.style.display =\n",
              "        google.colab.kernel.accessAllowed ? 'block' : 'none';\n",
              "    })();\n",
              "  </script>\n",
              "</div>\n",
              "    </div>\n",
              "  </div>\n"
            ]
          },
          "metadata": {},
          "execution_count": 98
        }
      ]
    },
    {
      "cell_type": "markdown",
      "source": [
        "As PositiveReview column will be the column to be embedded/vectorized to search for reviews by topic or keyword, I will drop the rows in the dataframe where PositiveReview is missing"
      ],
      "metadata": {
        "id": "N2-0N8sxl8jY"
      }
    },
    {
      "cell_type": "code",
      "source": [
        "df = df.dropna(subset=['PositiveReview'])\n",
        "df.info()"
      ],
      "metadata": {
        "id": "ZHlRBDiFR1Nt",
        "colab": {
          "base_uri": "https://localhost:8080/"
        },
        "outputId": "a5de1b4b-8a8a-457f-8a19-3d69ba033390"
      },
      "execution_count": 99,
      "outputs": [
        {
          "output_type": "stream",
          "name": "stdout",
          "text": [
            "<class 'pandas.core.frame.DataFrame'>\n",
            "Int64Index: 775 entries, 0 to 787\n",
            "Data columns (total 9 columns):\n",
            " #   Column          Non-Null Count  Dtype  \n",
            "---  ------          --------------  -----  \n",
            " 0   Title           775 non-null    object \n",
            " 1   PositiveReview  775 non-null    object \n",
            " 2   NegativeReview  424 non-null    object \n",
            " 3   Score           775 non-null    float64\n",
            " 4   GuestCountry    775 non-null    object \n",
            " 5   RoomType        748 non-null    object \n",
            " 6   NumberOfNights  775 non-null    object \n",
            " 7   VisitDate       775 non-null    object \n",
            " 8   GroupType       775 non-null    object \n",
            "dtypes: float64(1), object(8)\n",
            "memory usage: 60.5+ KB\n"
          ]
        }
      ]
    },
    {
      "cell_type": "markdown",
      "source": [
        "In order to test, I will use the first 300 reviews in the dataframe to start with."
      ],
      "metadata": {
        "id": "F1_gmrkPQ3Jw"
      }
    },
    {
      "cell_type": "code",
      "source": [
        "df = df[:300]\n",
        "len(df)"
      ],
      "metadata": {
        "colab": {
          "base_uri": "https://localhost:8080/"
        },
        "id": "rT66XR-NmTQL",
        "outputId": "57a056f7-a22f-41ae-e2b0-768c0d6302ba"
      },
      "execution_count": 100,
      "outputs": [
        {
          "output_type": "execute_result",
          "data": {
            "text/plain": [
              "300"
            ]
          },
          "metadata": {},
          "execution_count": 100
        }
      ]
    },
    {
      "cell_type": "markdown",
      "source": [
        "# LangChain and VertexAI set up"
      ],
      "metadata": {
        "id": "zwDgNHKOnQF1"
      }
    },
    {
      "cell_type": "code",
      "source": [
        "!pip install langchain"
      ],
      "metadata": {
        "id": "RSe8KZZtymW2"
      },
      "execution_count": null,
      "outputs": []
    },
    {
      "cell_type": "code",
      "source": [
        "from google.colab import auth as google_auth\n",
        "google_auth.authenticate_user()"
      ],
      "metadata": {
        "id": "EeygzfQCz_aU"
      },
      "execution_count": 103,
      "outputs": []
    },
    {
      "cell_type": "code",
      "source": [
        "PROJECT_ID = 'llmpalm'\n",
        "LOCATION = 'asia-northeast1'"
      ],
      "metadata": {
        "id": "7TKczPLevj0r"
      },
      "execution_count": 104,
      "outputs": []
    },
    {
      "cell_type": "code",
      "source": [
        "import vertexai\n",
        "vertexai.init(project = PROJECT_ID, location = LOCATION)"
      ],
      "metadata": {
        "id": "IZe5G5XFx9vG"
      },
      "execution_count": 105,
      "outputs": []
    },
    {
      "cell_type": "code",
      "source": [
        "from langchain.llms import VertexAI"
      ],
      "metadata": {
        "id": "Khgza-pApQ9g"
      },
      "execution_count": 106,
      "outputs": []
    },
    {
      "cell_type": "code",
      "source": [
        "llm = VertexAI(\n",
        "    model_name=\"text-bison@001\",\n",
        "    max_output_tokens=512,\n",
        "    temperature=0.7,\n",
        "    top_p=0.8,\n",
        "    top_k=40,\n",
        "    verbose=True,\n",
        ")"
      ],
      "metadata": {
        "id": "Fy_icLtTomyl"
      },
      "execution_count": 107,
      "outputs": []
    },
    {
      "cell_type": "markdown",
      "source": [
        "# Loading dataframe with document_loaders"
      ],
      "metadata": {
        "id": "WjAivKQcXYUM"
      }
    },
    {
      "cell_type": "code",
      "source": [
        "from langchain.document_loaders import DataFrameLoader"
      ],
      "metadata": {
        "id": "QozAJAMcSfVq"
      },
      "execution_count": 109,
      "outputs": []
    },
    {
      "cell_type": "code",
      "source": [
        "loader = DataFrameLoader(df, page_content_column='PositiveReview')  # in DataFrameLoader, page_content_column selects the column to be Embedded/vectorized\n",
        "# other columns are stored as metadata\n",
        "data = loader.load()"
      ],
      "metadata": {
        "id": "eelEpOdcXbL6"
      },
      "execution_count": 110,
      "outputs": []
    },
    {
      "cell_type": "code",
      "source": [
        "len(data)"
      ],
      "metadata": {
        "colab": {
          "base_uri": "https://localhost:8080/"
        },
        "id": "LFAHD1fwXbXZ",
        "outputId": "bb16e5d4-b954-466c-cec2-5f90df6b1257"
      },
      "execution_count": 111,
      "outputs": [
        {
          "output_type": "execute_result",
          "data": {
            "text/plain": [
              "300"
            ]
          },
          "metadata": {},
          "execution_count": 111
        }
      ]
    },
    {
      "cell_type": "code",
      "source": [
        "data[0]"
      ],
      "metadata": {
        "colab": {
          "base_uri": "https://localhost:8080/"
        },
        "id": "qYdv8rvnX7eq",
        "outputId": "e3798b8f-147b-465d-92d3-734e28b32cf0"
      },
      "execution_count": 112,
      "outputs": [
        {
          "output_type": "execute_result",
          "data": {
            "text/plain": [
              "Document(page_content='New, comfortable apartments, close to the airport, to very clean beach.\\nStaff is extremely helpful and easy to communicate with \\nTasty food on the first floor, comfortable restaurant for both cozy evenings and calm work to escape the heat in the midday', metadata={'Title': 'Wonderful place to stay.', 'NegativeReview': 'Nothing at all.', 'Score': 10.0, 'GuestCountry': 'Norway', 'RoomType': 'Budget Twin Room', 'NumberOfNights': '1 night', 'VisitDate': 'June 2022', 'GroupType': 'Solo traveler'})"
            ]
          },
          "metadata": {},
          "execution_count": 112
        }
      ]
    },
    {
      "cell_type": "markdown",
      "source": [
        "# Embedding and Vector Database\n",
        "\n",
        "I will use HuggingFace Embedding to vectorize the data and use FAISS for vector database\n",
        "\n"
      ],
      "metadata": {
        "id": "zcNivbSk4OTq"
      }
    },
    {
      "cell_type": "code",
      "source": [
        "!pip install langchain sentence_transformers"
      ],
      "metadata": {
        "id": "TXPTNwNFr3RH"
      },
      "execution_count": null,
      "outputs": []
    },
    {
      "cell_type": "code",
      "source": [
        "from langchain.embeddings import HuggingFaceEmbeddings"
      ],
      "metadata": {
        "id": "dWhZkAKSr3c2"
      },
      "execution_count": 114,
      "outputs": []
    },
    {
      "cell_type": "code",
      "source": [
        "embeddings = HuggingFaceEmbeddings()"
      ],
      "metadata": {
        "id": "Ma3zwKxJsFgG"
      },
      "execution_count": 115,
      "outputs": []
    },
    {
      "cell_type": "code",
      "source": [
        "from langchain.vectorstores import FAISS"
      ],
      "metadata": {
        "id": "jm7up_ogt4MO"
      },
      "execution_count": 116,
      "outputs": []
    },
    {
      "cell_type": "code",
      "source": [
        "!pip install faiss-cpu"
      ],
      "metadata": {
        "colab": {
          "base_uri": "https://localhost:8080/"
        },
        "id": "mLkLquYfw36x",
        "outputId": "f5c425d9-1423-45c4-9b7b-1c52d259b77c"
      },
      "execution_count": 117,
      "outputs": [
        {
          "output_type": "stream",
          "name": "stdout",
          "text": [
            "Requirement already satisfied: faiss-cpu in /usr/local/lib/python3.10/dist-packages (1.7.4)\n"
          ]
        }
      ]
    },
    {
      "cell_type": "code",
      "source": [
        "vectordb = FAISS.from_documents(documents=data, embedding = embeddings)"
      ],
      "metadata": {
        "id": "1XhPTGhOZzZ9"
      },
      "execution_count": 118,
      "outputs": []
    },
    {
      "cell_type": "code",
      "source": [
        "# Create a retriever for querying the vector database\n",
        "\n",
        "# the job of this retriever object is, whenever you have a new user question, it will create an embedding of the question,\n",
        "# then it will retrieve the similiar looking vector from the vector database by comparing the embeddings in the database\n",
        "\n",
        "retriever = vectordb.as_retriever(score_threshold = 0.7)"
      ],
      "metadata": {
        "id": "QyIRTxFPvdlh"
      },
      "execution_count": 119,
      "outputs": []
    },
    {
      "cell_type": "markdown",
      "source": [
        "Some testing:"
      ],
      "metadata": {
        "id": "zdjnkHrLSl1w"
      }
    },
    {
      "cell_type": "code",
      "source": [
        "rdocs = retriever.get_relevant_documents(\"Get me reviews on food\")\n",
        "rdocs"
      ],
      "metadata": {
        "colab": {
          "base_uri": "https://localhost:8080/"
        },
        "id": "THRPD4NsvdqI",
        "outputId": "d025d839-6022-4565-f455-95fa0c173e05"
      },
      "execution_count": 120,
      "outputs": [
        {
          "output_type": "execute_result",
          "data": {
            "text/plain": [
              "[Document(page_content='The food was very good,the chef is kind.', metadata={'Title': 'Very Good', 'NegativeReview': 'In the bathroom smelled bad', 'Score': 8.0, 'GuestCountry': 'Romania', 'RoomType': 'Double Room with Balcony', 'NumberOfNights': '7 nights', 'VisitDate': 'June 2022', 'GroupType': 'Family'}),\n",
              " Document(page_content='The stuff was very friendly and helpfull. They exceeded my expectations.  Breakfast for charge same as anywhere else was enormous size and very delicious.', metadata={'Title': 'Great place, super staff, huge delicious breakfast. Recommend', 'NegativeReview': 'Liked everythingz close to airport and town half an hour walking to town', 'Score': 10.0, 'GuestCountry': 'United Kingdom', 'RoomType': 'Double Room', 'NumberOfNights': '2 nights', 'VisitDate': 'June 2022', 'GroupType': 'Couple'}),\n",
              " Document(page_content='The food we had was excellent, service was excellent we will go back.', metadata={'Title': 'Wonderful', 'NegativeReview': nan, 'Score': 9.0, 'GuestCountry': 'United Kingdom', 'RoomType': 'Double Room with Balcony', 'NumberOfNights': '11 nights', 'VisitDate': 'September 2022', 'GroupType': 'Couple'}),\n",
              " Document(page_content='Very clean and new, food was 5 star! The best club sandwich ever!!', metadata={'Title': 'Exceptional', 'NegativeReview': nan, 'Score': 10.0, 'GuestCountry': 'United Kingdom', 'RoomType': 'Two-Bedroom Suite', 'NumberOfNights': '4 nights', 'VisitDate': 'June 2022', 'GroupType': 'Family'})]"
            ]
          },
          "metadata": {},
          "execution_count": 120
        }
      ]
    },
    {
      "cell_type": "code",
      "source": [
        "len(rdocs)"
      ],
      "metadata": {
        "colab": {
          "base_uri": "https://localhost:8080/"
        },
        "id": "HQIn_gX9Zzl0",
        "outputId": "db96b25b-5799-4f2a-8405-a0ab4034aa33"
      },
      "execution_count": 121,
      "outputs": [
        {
          "output_type": "execute_result",
          "data": {
            "text/plain": [
              "4"
            ]
          },
          "metadata": {},
          "execution_count": 121
        }
      ]
    },
    {
      "cell_type": "code",
      "source": [
        "type(rdocs)"
      ],
      "metadata": {
        "id": "zaQalPK-X7ya",
        "colab": {
          "base_uri": "https://localhost:8080/"
        },
        "outputId": "a5fef7f9-1f26-4567-d5b4-a2f32339ec39"
      },
      "execution_count": 122,
      "outputs": [
        {
          "output_type": "execute_result",
          "data": {
            "text/plain": [
              "list"
            ]
          },
          "metadata": {},
          "execution_count": 122
        }
      ]
    },
    {
      "cell_type": "code",
      "source": [
        "for doc in rdocs:\n",
        "  print(doc)\n",
        "  print()"
      ],
      "metadata": {
        "colab": {
          "base_uri": "https://localhost:8080/"
        },
        "id": "ZeIhj9RiM0vv",
        "outputId": "60e19a85-c8fa-42d5-86a1-5a219e1e9adf"
      },
      "execution_count": 123,
      "outputs": [
        {
          "output_type": "stream",
          "name": "stdout",
          "text": [
            "page_content='The food was very good,the chef is kind.' metadata={'Title': 'Very Good', 'NegativeReview': 'In the bathroom smelled bad', 'Score': 8.0, 'GuestCountry': 'Romania', 'RoomType': 'Double Room with Balcony', 'NumberOfNights': '7 nights', 'VisitDate': 'June 2022', 'GroupType': 'Family'}\n",
            "\n",
            "page_content='The stuff was very friendly and helpfull. They exceeded my expectations.  Breakfast for charge same as anywhere else was enormous size and very delicious.' metadata={'Title': 'Great place, super staff, huge delicious breakfast. Recommend', 'NegativeReview': 'Liked everythingz close to airport and town half an hour walking to town', 'Score': 10.0, 'GuestCountry': 'United Kingdom', 'RoomType': 'Double Room', 'NumberOfNights': '2 nights', 'VisitDate': 'June 2022', 'GroupType': 'Couple'}\n",
            "\n",
            "page_content='The food we had was excellent, service was excellent we will go back.' metadata={'Title': 'Wonderful', 'NegativeReview': nan, 'Score': 9.0, 'GuestCountry': 'United Kingdom', 'RoomType': 'Double Room with Balcony', 'NumberOfNights': '11 nights', 'VisitDate': 'September 2022', 'GroupType': 'Couple'}\n",
            "\n",
            "page_content='Very clean and new, food was 5 star! The best club sandwich ever!!' metadata={'Title': 'Exceptional', 'NegativeReview': nan, 'Score': 10.0, 'GuestCountry': 'United Kingdom', 'RoomType': 'Two-Bedroom Suite', 'NumberOfNights': '4 nights', 'VisitDate': 'June 2022', 'GroupType': 'Family'}\n",
            "\n"
          ]
        }
      ]
    },
    {
      "cell_type": "markdown",
      "source": [
        "# Prompt Template"
      ],
      "metadata": {
        "id": "5_QvK1FASvCb"
      }
    },
    {
      "cell_type": "code",
      "source": [
        "from langchain.prompts import PromptTemplate\n",
        "from langchain.chains import RetrievalQA"
      ],
      "metadata": {
        "id": "KQSWJ1ZH5LYP"
      },
      "execution_count": 125,
      "outputs": []
    },
    {
      "cell_type": "code",
      "source": [
        "prompt_template = \"\"\"Given the following context and a question, generate an answer based on this context only.\n",
        "In the answer try to provide as much as possible from the source dataframe context without making much changes.\n",
        "If the answer is not found in the context or the answer to the given question is not relevant to be found from the source,\n",
        "kindly state \"I am sorry I dont know, I can only answer about reviews I have from the data.\" Don't try to make up an answer.\n",
        "\n",
        "CONTEXT: {context}\n",
        "\n",
        "QUESTION: {question}\"\"\"\n",
        "\n",
        "\n",
        "PROMPT = PromptTemplate(\n",
        "    template=prompt_template, input_variables=[\"context\", \"question\"]\n",
        ")\n",
        "chain_type_kwargs = {\"prompt\": PROMPT}"
      ],
      "metadata": {
        "id": "3JIKCKd-5L_S"
      },
      "execution_count": 126,
      "outputs": []
    },
    {
      "cell_type": "code",
      "source": [
        "chain = RetrievalQA.from_chain_type(llm=llm,\n",
        "                            chain_type=\"stuff\",\n",
        "                            retriever=retriever,\n",
        "                            input_key=\"query\",\n",
        "                            return_source_documents=True,\n",
        "                            chain_type_kwargs=chain_type_kwargs)"
      ],
      "metadata": {
        "id": "oGKZpxCy31Jf"
      },
      "execution_count": 127,
      "outputs": []
    },
    {
      "cell_type": "markdown",
      "source": [
        "Here are some examples of how the review is found/retrieved from the source dataframe:\n",
        "\n",
        "I have also included the examples of questions that are irrelevant to ensure that the answers are not made up."
      ],
      "metadata": {
        "id": "kqvve0FWAdKa"
      }
    },
    {
      "cell_type": "code",
      "source": [
        "chain('Any reviews about the hotel location?')"
      ],
      "metadata": {
        "colab": {
          "base_uri": "https://localhost:8080/"
        },
        "id": "vHTUFjwhOOCH",
        "outputId": "6f9386eb-a243-4278-fdde-a7ed46a1882c"
      },
      "execution_count": 128,
      "outputs": [
        {
          "output_type": "execute_result",
          "data": {
            "text/plain": [
              "{'query': 'Any reviews about the hotel location?',\n",
              " 'result': 'The location is good. It is near to the airport, bus station and beach.',\n",
              " 'source_documents': [Document(page_content='location is good you can take bus 425 from the airport to somewhere close enough to the hotel. stuff were super nice! room is spacious and clean, bed is comfy too.', metadata={'Title': 'perfect', 'NegativeReview': nan, 'Score': 10.0, 'GuestCountry': 'United Kingdom', 'RoomType': 'Double Room', 'NumberOfNights': '1 night', 'VisitDate': 'November 2021', 'GroupType': 'Couple'}),\n",
              "  Document(page_content='Everything was very good. Staff very polite and helpful. Rooms are clean. Breakfast was delicious. Hotel is near to the beach, airport and bus station.', metadata={'Title': 'Excellent 👍', 'NegativeReview': nan, 'Score': 10.0, 'GuestCountry': 'Serbia', 'RoomType': 'Double Room', 'NumberOfNights': '2 nights', 'VisitDate': 'August 2022', 'GroupType': 'Family'}),\n",
              "  Document(page_content='Our stay was just about perfect. This is one of the most impressive stays we ever had with a Booking.Com reservation.  The location allowed us to walk to the beach and restaurants.  The family that runs the hotel was incredibly friendly and very, very nice.  The rooms, lobby and restaurant were lovely; exceedlingly modern, and comfortable.  We ate dinner at the hotel because we were so impressed with \"chef Richard\" and the food was fabulous.   Were had cocktails on the lovely patio and had the chance to meet and chat with other guests.', metadata={'Title': 'This is a five star hotel in all respects.', 'NegativeReview': nan, 'Score': 10.0, 'GuestCountry': 'United States of America', 'RoomType': 'Double Room with Balcony', 'NumberOfNights': '1 night', 'VisitDate': 'May 2022', 'GroupType': 'Group'}),\n",
              "  Document(page_content='location near the airport and beach 10/10.\\nfront desk are absolutely perfect 10/10\\nhotel restaurant delicious! 10/10\\nthe room perfect! \\nnothing to say,', metadata={'Title': 'perfect choice, good job guys!', 'NegativeReview': nan, 'Score': 10.0, 'GuestCountry': 'Israel', 'RoomType': 'Double Room with Balcony', 'NumberOfNights': '1 night', 'VisitDate': 'August 2022', 'GroupType': 'Couple'})]}"
            ]
          },
          "metadata": {},
          "execution_count": 128
        }
      ]
    },
    {
      "cell_type": "code",
      "source": [
        "chain('Pick reviews about service.')"
      ],
      "metadata": {
        "colab": {
          "base_uri": "https://localhost:8080/"
        },
        "id": "MYckjLRMOUvd",
        "outputId": "4a0f2663-ad39-4222-9cbb-7aa38131cd69"
      },
      "execution_count": 129,
      "outputs": [
        {
          "output_type": "execute_result",
          "data": {
            "text/plain": [
              "{'query': 'Pick reviews about service.',\n",
              " 'result': 'Excellent range of food offered and good service. \\nVery pleasant, helpful and friendly staff.',\n",
              " 'source_documents': [Document(page_content='the staff, the cleanness, the price, check out time', metadata={'Title': 'everything was exceptional', 'NegativeReview': 'nothing', 'Score': 10.0, 'GuestCountry': 'Cyprus', 'RoomType': 'Double Room with Balcony', 'NumberOfNights': '1 night', 'VisitDate': 'July 2022', 'GroupType': 'Couple'}),\n",
              "  Document(page_content='Excellent range of food offered and good service.', metadata={'Title': 'excellent arrangements made to cope with midnight arrival', 'NegativeReview': 'no issues for overnight stay', 'Score': 8.0, 'GuestCountry': 'United Kingdom', 'RoomType': 'Double Room', 'NumberOfNights': '1 night', 'VisitDate': 'October 2022', 'GroupType': 'Couple'}),\n",
              "  Document(page_content='Friendly, good value, clean', metadata={'Title': 'Exceptional', 'NegativeReview': nan, 'Score': 10.0, 'GuestCountry': 'United Kingdom', 'RoomType': 'Double Room', 'NumberOfNights': '1 night', 'VisitDate': 'October 2022', 'GroupType': 'Solo traveler'}),\n",
              "  Document(page_content='Very pleasant, helpful and friendly staff.', metadata={'Title': 'Exceptional', 'NegativeReview': 'All good', 'Score': 10.0, 'GuestCountry': 'Ireland', 'RoomType': 'Double Room', 'NumberOfNights': '1 night', 'VisitDate': 'December 2021', 'GroupType': 'Solo traveler'})]}"
            ]
          },
          "metadata": {},
          "execution_count": 129
        }
      ]
    },
    {
      "cell_type": "code",
      "source": [
        "chain('How many hotels are there in Paris?')"
      ],
      "metadata": {
        "id": "msAezXpRSvxe",
        "colab": {
          "base_uri": "https://localhost:8080/"
        },
        "outputId": "a0a948aa-6e92-4245-ee37-0250d12782f5"
      },
      "execution_count": 130,
      "outputs": [
        {
          "output_type": "execute_result",
          "data": {
            "text/plain": [
              "{'query': 'How many hotels are there in Paris?',\n",
              " 'result': 'I am sorry I dont know, I can only answer about reviews I have from the data.',\n",
              " 'source_documents': [Document(page_content='Nice modern and clean rooms. The location is excellent close to Airport, Makenzie  beach and touristic area, and bus stop going from Airport to town is few meters away. Very friendly staff.\\nHighly recommended.', metadata={'Title': 'Pleasant stay!', 'NegativeReview': 'Nothing', 'Score': 10.0, 'GuestCountry': 'Lebanon', 'RoomType': 'Double Room', 'NumberOfNights': '1 night', 'VisitDate': 'September 2022', 'GroupType': 'Couple'}),\n",
              "  Document(page_content='The modern, nice hotel, accommodation for one night before departure. The hotel arranged a taxi to the airport for 15 €', metadata={'Title': 'The modern, nice hotel with friendly staff', 'NegativeReview': nan, 'Score': 9.0, 'GuestCountry': 'Czech Republic', 'RoomType': 'Double Room with Balcony', 'NumberOfNights': '1 night', 'VisitDate': 'October 2021', 'GroupType': 'Couple'}),\n",
              "  Document(page_content='New room, very comfortable. Nice restaurant in the same building very welcoming with nice offer. Bus stop for the airport walkable.\\nFrancais parlé parfaitement', metadata={'Title': 'Very clean and welcoming place to wait for your coming flight', 'NegativeReview': 'The location of the place is more a waiting position for your next flight at the Larnaka airport than a beach stay.', 'Score': 8.0, 'GuestCountry': 'France', 'RoomType': 'Double Room with Balcony', 'NumberOfNights': '1 night', 'VisitDate': 'September 2022', 'GroupType': 'Family'}),\n",
              "  Document(page_content='The perfect hotel.', metadata={'Title': 'Exceptional', 'NegativeReview': 'I liked everything.', 'Score': 10.0, 'GuestCountry': 'New Zealand', 'RoomType': 'Double Room with Balcony', 'NumberOfNights': '1 night', 'VisitDate': 'July 2022', 'GroupType': 'Solo traveler'})]}"
            ]
          },
          "metadata": {},
          "execution_count": 130
        }
      ]
    },
    {
      "cell_type": "code",
      "source": [
        "chain('Give me the most famous hotel name in Tokyo.')"
      ],
      "metadata": {
        "colab": {
          "base_uri": "https://localhost:8080/"
        },
        "id": "v60abKt6sxRU",
        "outputId": "62a90ce9-736c-453d-e83d-6456da2c2a62"
      },
      "execution_count": 131,
      "outputs": [
        {
          "output_type": "execute_result",
          "data": {
            "text/plain": [
              "{'query': 'Give me the most famous hotel name in Tokyo.',\n",
              " 'result': 'I am sorry I dont know, I can only answer about reviews I have from the data.',\n",
              " 'source_documents': [Document(page_content='The perfect hotel.', metadata={'Title': 'Exceptional', 'NegativeReview': 'I liked everything.', 'Score': 10.0, 'GuestCountry': 'New Zealand', 'RoomType': 'Double Room with Balcony', 'NumberOfNights': '1 night', 'VisitDate': 'July 2022', 'GroupType': 'Solo traveler'}),\n",
              "  Document(page_content='Exceptionally friendly service of hotel and restarant in same building. Attention and service superb.', metadata={'Title': 'Wonderful', 'NegativeReview': nan, 'Score': 9.0, 'GuestCountry': 'Lithuania', 'RoomType': 'Suite with Balcony', 'NumberOfNights': '1 night', 'VisitDate': 'June 2022', 'GroupType': 'Family'}),\n",
              "  Document(page_content='Nice and simple hotel. Very convenient location close to the airport. The front desk was very friendly and helpful.', metadata={'Title': 'Wonderful', 'NegativeReview': 'The area was a little noisy when we stayed there.', 'Score': 9.0, 'GuestCountry': 'Israel', 'RoomType': 'Two-Bedroom Suite', 'NumberOfNights': '1 night', 'VisitDate': 'August 2022', 'GroupType': 'Family'}),\n",
              "  Document(page_content='Location very convenient. Near the beach and the Restaurants. Public Bus station at 30 meters from the hotel. Also very close to the airport.', metadata={'Title': 'I was very happy that I have chosen La Veranda Hotel', 'NegativeReview': nan, 'Score': 10.0, 'GuestCountry': 'Lebanon', 'RoomType': 'Double Room', 'NumberOfNights': '1 night', 'VisitDate': 'April 2022', 'GroupType': 'Solo traveler'})]}"
            ]
          },
          "metadata": {},
          "execution_count": 131
        }
      ]
    }
  ]
}